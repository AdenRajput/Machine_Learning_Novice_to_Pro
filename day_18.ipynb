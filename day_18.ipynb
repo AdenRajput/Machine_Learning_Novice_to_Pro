{
 "cells": [
  {
   "cell_type": "markdown",
   "metadata": {},
   "source": [
    "# Normality Test\n",
    "1. Shapiro Wilk Test\n",
    "2. Kolmogorov Test\n",
    "3. AD Test\n",
    "..."
   ]
  },
  {
   "cell_type": "code",
   "execution_count": 1,
   "metadata": {},
   "outputs": [],
   "source": [
    "#libraries\n",
    "import pandas as pd\n",
    "import numpy as np\n",
    "import seaborn as sns"
   ]
  },
  {
   "cell_type": "code",
   "execution_count": 2,
   "metadata": {},
   "outputs": [],
   "source": [
    "# data\n",
    "df = sns.load_dataset('tips')"
   ]
  },
  {
   "cell_type": "markdown",
   "metadata": {},
   "source": [
    "Here, we want to find out the normality of the tips given with the help of the normality tests."
   ]
  },
  {
   "cell_type": "code",
   "execution_count": 3,
   "metadata": {},
   "outputs": [
    {
     "data": {
      "text/plain": [
       "1.4654510370979401"
      ]
     },
     "execution_count": 3,
     "metadata": {},
     "output_type": "execute_result"
    }
   ],
   "source": [
    "# lets make it sure that tip is skewed or showing normal distribution\n",
    "df['tip'].skew()"
   ]
  },
  {
   "cell_type": "code",
   "execution_count": 15,
   "metadata": {},
   "outputs": [
    {
     "name": "stdout",
     "output_type": "stream",
     "text": [
      "Statistics=0.898, p=0.000\n",
      "the p-value is 0.000 , which is less than the alpha (0.05). Thus, we REJECT the NULL hypothesis:i.e., \n",
      " we have sufficient evidence that the sample does NOT come from a normal distribution.\n"
     ]
    }
   ],
   "source": [
    "# Using the Shapiro-Wilk test\n",
    "\n",
    "# H0: The data is normally distributed\n",
    "# H1: The data is not normally distributed\n",
    "\n",
    "from scipy.stats import shapiro\n",
    "\n",
    "stat, p = shapiro(df['tip'])\n",
    "print('Statistics=%.3f, p=%.3f' % (stat, p))\n",
    "\n",
    "# interpret\n",
    "alpha = 0.05\n",
    "if p > alpha:\n",
    "    print(f'the p-value is {p:.3f} , which is more than the alpha (0.05). Thus, we FAIL to reject the NULL hypothesis:i.e., '\n",
    "      '\\n we do NOT have sufficient evidence to say that the sample does not come from a normal distribution.')\n",
    "    \n",
    "else:\n",
    "    print(f'the p-value is {p:.3f} , which is less than the alpha (0.05). Thus, we REJECT the NULL hypothesis:i.e., '\n",
    "      '\\n we have sufficient evidence that the sample does NOT come from a normal distribution.')\n",
    "\n",
    "\n",
    "    "
   ]
  },
  {
   "cell_type": "code",
   "execution_count": 18,
   "metadata": {},
   "outputs": [
    {
     "data": {
      "text/plain": [
       "KstestResult(statistic=0.8758859725968204, pvalue=2.500004286381358e-221, statistic_location=1.44, statistic_sign=-1)"
      ]
     },
     "execution_count": 18,
     "metadata": {},
     "output_type": "execute_result"
    }
   ],
   "source": [
    "kstest(df['tip'], 'norm')"
   ]
  },
  {
   "cell_type": "code",
   "execution_count": 20,
   "metadata": {},
   "outputs": [
    {
     "name": "stdout",
     "output_type": "stream",
     "text": [
      "Statistics=0.876, p=0.000\n",
      "the p-value is 0.000 , which is less than the alpha (0.05). Thus, we REJECT the NULL hypothesis:i.e., \n",
      " we have sufficient evidence that the sample does NOT come from a normal distribution.\n"
     ]
    }
   ],
   "source": [
    "# Kolmorogov-Smirnov test\n",
    "# H0: The data is normally distributed\n",
    "# H1: The data is not normally distributed\n",
    "\n",
    "from scipy.stats import kstest\n",
    "\n",
    "stat, p = kstest(df['tip'], 'norm')\n",
    "print('Statistics=%.3f, p=%.3f' % (stat, p))\n",
    "\n",
    "# interpret\n",
    "alpha = 0.05\n",
    "\n",
    "if p > alpha:\n",
    "    print(f'the p-value is {p:.3f} , which is more than the alpha (0.05). Thus, we FAIL to reject the NULL hypothesis:i.e., '\n",
    "      '\\n we do NOT have sufficient evidence to say that the sample does not come from a normal distribution.')\n",
    "    \n",
    "else:\n",
    "    print(f'the p-value is {p:.3f} , which is less than the alpha (0.05). Thus, we REJECT the NULL hypothesis:i.e., '\n",
    "      '\\n we have sufficient evidence that the sample does NOT come from a normal distribution.')\n",
    "    \n",
    "    "
   ]
  },
  {
   "cell_type": "code",
   "execution_count": null,
   "metadata": {},
   "outputs": [],
   "source": [
    "# Anderson-Darling test\n",
    "# H0: The data is normally distributed\n",
    "# H1: The data is not normally distributed\n",
    "\n",
    "from scipy.stats import anderson\n"
   ]
  },
  {
   "cell_type": "markdown",
   "metadata": {},
   "source": [
    "# Homogennity Test:"
   ]
  },
  {
   "cell_type": "code",
   "execution_count": null,
   "metadata": {},
   "outputs": [],
   "source": []
  }
 ],
 "metadata": {
  "kernelspec": {
   "display_name": "Python 3",
   "language": "python",
   "name": "python3"
  },
  "language_info": {
   "codemirror_mode": {
    "name": "ipython",
    "version": 3
   },
   "file_extension": ".py",
   "mimetype": "text/x-python",
   "name": "python",
   "nbconvert_exporter": "python",
   "pygments_lexer": "ipython3",
   "version": "3.11.5"
  },
  "orig_nbformat": 4
 },
 "nbformat": 4,
 "nbformat_minor": 2
}
