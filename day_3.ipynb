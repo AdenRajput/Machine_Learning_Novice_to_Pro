{
 "cells": [
  {
   "cell_type": "markdown",
   "metadata": {},
   "source": [
    "# Day:3 "
   ]
  },
  {
   "cell_type": "markdown",
   "metadata": {},
   "source": [
    "1. Basic Syntax + Comments:"
   ]
  },
  {
   "cell_type": "code",
   "execution_count": 1,
   "metadata": {},
   "outputs": [
    {
     "name": "stdout",
     "output_type": "stream",
     "text": [
      "wELCOME to the ML course\n",
      "Welcome to the ML course\n",
      " Welcome to the ML course\n"
     ]
    }
   ],
   "source": [
    "# print something on the screen\n",
    "print(\"wELCOME to the ML course it's \")\n",
    "print('Welcome to the ML course')\n",
    "print(''' Welcome to the ML course''')"
   ]
  },
  {
   "cell_type": "code",
   "execution_count": 6,
   "metadata": {},
   "outputs": [
    {
     "name": "stdout",
     "output_type": "stream",
     "text": [
      "Welcome to the ML course\n"
     ]
    }
   ],
   "source": [
    " print('Welcome to the ML course') #SPACING"
   ]
  },
  {
   "cell_type": "markdown",
   "metadata": {},
   "source": [
    "2. Operators:"
   ]
  },
  {
   "cell_type": "code",
   "execution_count": 10,
   "metadata": {},
   "outputs": [
    {
     "name": "stdout",
     "output_type": "stream",
     "text": [
      "11\n",
      "-3\n",
      "18\n",
      "3.3333333333333335\n",
      "2\n",
      "16\n",
      "6\n",
      "1\n"
     ]
    }
   ],
   "source": [
    "## Arithmetic Operators\n",
    "\n",
    "print(2+9) #addition\n",
    "print(3-6) # subtraction\n",
    "print(9*2) # multiplication\n",
    "print(10/3) #division\n",
    "print(6%4) #modulus\n",
    "print(4**2) #exponential\n",
    "print(4^2) #??\n",
    "print(6//4) #floor division"
   ]
  },
  {
   "cell_type": "code",
   "execution_count": 13,
   "metadata": {},
   "outputs": [],
   "source": [
    "# Assignment operators\n",
    "\n",
    "a = 12\n",
    "\n",
    "a += 4 # a = a + 12"
   ]
  },
  {
   "cell_type": "code",
   "execution_count": 14,
   "metadata": {},
   "outputs": [],
   "source": [
    "# comparison operator:\n",
    "\n",
    "a == b # a is euqal to b\n",
    "a != b # a is not equal to b\n",
    "a > b # a is greater than b\n",
    "a <= b # a is less than and equal to b"
   ]
  },
  {
   "cell_type": "code",
   "execution_count": null,
   "metadata": {},
   "outputs": [],
   "source": [
    "# Logical operator\n",
    "## AND OR NOT"
   ]
  },
  {
   "cell_type": "markdown",
   "metadata": {},
   "source": [
    "3. Data Types + variable definition"
   ]
  },
  {
   "cell_type": "code",
   "execution_count": 18,
   "metadata": {},
   "outputs": [
    {
     "name": "stdout",
     "output_type": "stream",
     "text": [
      "<class 'str'>\n"
     ]
    }
   ],
   "source": [
    "## STRING : \n",
    "s = 'Adan'\n",
    "\n",
    "# indexing: ginti python may 0 say shuru hoti hay\n",
    "\n",
    "print(type(s)) #display the data type of the variable"
   ]
  },
  {
   "cell_type": "code",
   "execution_count": 19,
   "metadata": {},
   "outputs": [],
   "source": [
    "## INTEGER:\n",
    "a = 12 # integer: \n",
    "b = '12' # string type\n",
    "c = 12.34 #float\n",
    "\n",
    "## TASK: HOW MANY DATA TYPES WITH EACH EXAMPLE"
   ]
  },
  {
   "cell_type": "code",
   "execution_count": 20,
   "metadata": {},
   "outputs": [],
   "source": [
    "B = \"\"\" Python is LIT, It's cool..!! \"\"\""
   ]
  },
  {
   "cell_type": "markdown",
   "metadata": {},
   "source": [
    "4. Input Functions:"
   ]
  },
  {
   "cell_type": "code",
   "execution_count": 22,
   "metadata": {},
   "outputs": [
    {
     "name": "stdout",
     "output_type": "stream",
     "text": [
      "Welcome Adan\n"
     ]
    }
   ],
   "source": [
    "name = input(\"Name:\")\n",
    "print('Welcome', name) #concatination "
   ]
  },
  {
   "cell_type": "code",
   "execution_count": 24,
   "metadata": {},
   "outputs": [
    {
     "name": "stdout",
     "output_type": "stream",
     "text": [
      "Your latest score is: 17\n"
     ]
    }
   ],
   "source": [
    "# initial score , 5 grace , print updated score\n",
    "\n",
    "##score to btao\n",
    "\n",
    "score = int(input(\"Score:\")) #type conversion: string to integer\n",
    "updated_score = score + 5\n",
    "print(\"Your latest score is:\", updated_score)\n",
    "\n",
    "\n",
    "## TASK: tax wrt age\n",
    "### input age\n",
    "### < 18 NO TAX, 18-30 1.2% TAX, 30-50 2% DAY, < 50 no tax\n",
    "\n",
    "\n",
    "## Task: convert string to float, int to float"
   ]
  },
  {
   "cell_type": "markdown",
   "metadata": {},
   "source": [
    "5. IF ELSE ELIF:"
   ]
  },
  {
   "cell_type": "code",
   "execution_count": 26,
   "metadata": {},
   "outputs": [
    {
     "ename": "ValueError",
     "evalue": "invalid literal for int() with base 10: '45.3'",
     "output_type": "error",
     "traceback": [
      "\u001b[1;31m---------------------------------------------------------------------------\u001b[0m",
      "\u001b[1;31mValueError\u001b[0m                                Traceback (most recent call last)",
      "\u001b[1;32me:\\ML_Course\\day_3.ipynb Cell 18\u001b[0m in \u001b[0;36m<cell line: 4>\u001b[1;34m()\u001b[0m\n\u001b[0;32m      <a href='vscode-notebook-cell:/e%3A/ML_Course/day_3.ipynb#X26sZmlsZQ%3D%3D?line=0'>1</a>\u001b[0m \u001b[39m# if else\u001b[39;00m\n\u001b[0;32m      <a href='vscode-notebook-cell:/e%3A/ML_Course/day_3.ipynb#X26sZmlsZQ%3D%3D?line=1'>2</a>\u001b[0m \n\u001b[0;32m      <a href='vscode-notebook-cell:/e%3A/ML_Course/day_3.ipynb#X26sZmlsZQ%3D%3D?line=2'>3</a>\u001b[0m \u001b[39m## even or odd number\u001b[39;00m\n\u001b[1;32m----> <a href='vscode-notebook-cell:/e%3A/ML_Course/day_3.ipynb#X26sZmlsZQ%3D%3D?line=3'>4</a>\u001b[0m num \u001b[39m=\u001b[39m \u001b[39mint\u001b[39;49m(\u001b[39minput\u001b[39;49m(\u001b[39m\"\u001b[39;49m\u001b[39mEnter a Number: \u001b[39;49m\u001b[39m\"\u001b[39;49m))  \u001b[39m# input function to take user's input and convert it into integer.\u001b[39;00m\n\u001b[0;32m      <a href='vscode-notebook-cell:/e%3A/ML_Course/day_3.ipynb#X26sZmlsZQ%3D%3D?line=4'>5</a>\u001b[0m \u001b[39mif\u001b[39;00m num \u001b[39m%\u001b[39m\u001b[39m2\u001b[39m \u001b[39m==\u001b[39m \u001b[39m0\u001b[39m:\n\u001b[0;32m      <a href='vscode-notebook-cell:/e%3A/ML_Course/day_3.ipynb#X26sZmlsZQ%3D%3D?line=5'>6</a>\u001b[0m     \u001b[39m#print(\"Even Number\")\u001b[39;00m\n\u001b[0;32m      <a href='vscode-notebook-cell:/e%3A/ML_Course/day_3.ipynb#X26sZmlsZQ%3D%3D?line=6'>7</a>\u001b[0m     \u001b[39mprint\u001b[39m(num, \u001b[39m\"\u001b[39m\u001b[39mis even.\u001b[39m\u001b[39m\"\u001b[39m)\n",
      "\u001b[1;31mValueError\u001b[0m: invalid literal for int() with base 10: '45.3'"
     ]
    }
   ],
   "source": [
    "# if else\n",
    "\n",
    "## even or odd number\n",
    "num = int(input(\"Enter a Number: \"))  # input function to take user's input and convert it into integer.\n",
    "if num %2 == 0:\n",
    "    #print(\"Even Number\")\n",
    "    print(num, \"is even.\")\n",
    "else:\n",
    "    #print(\"Odd Number\")\n",
    "    print(num, \"is odd.\")\n",
    "\n"
   ]
  },
  {
   "cell_type": "code",
   "execution_count": 31,
   "metadata": {},
   "outputs": [
    {
     "name": "stdout",
     "output_type": "stream",
     "text": [
      "Number is not integer\n"
     ]
    }
   ],
   "source": [
    "\n",
    "# if elif else\n",
    "\n",
    "num = float(input(\"Enter a Number: \"))  # input function to take user's input and convert it into integer.\n",
    "if num %2 == 0:\n",
    "    #print(\"Even Number\")\n",
    "    print(num, \"is even.\")\n",
    "elif num %2 == 1:\n",
    "    #print(\"Odd Number\")\n",
    "    print(num, \"is odd.\")\n",
    "else:\n",
    "    print(\"Number is not integer\")"
   ]
  },
  {
   "cell_type": "markdown",
   "metadata": {},
   "source": [
    "6. Functions:"
   ]
  },
  {
   "cell_type": "code",
   "execution_count": 37,
   "metadata": {},
   "outputs": [],
   "source": [
    "# area of the circle\n",
    "\n",
    "def area(radius,pi):\n",
    "    area = pi * (radius ** 2)\n",
    "    print(\"area of the circle is:\", area)\n",
    "\n"
   ]
  },
  {
   "cell_type": "code",
   "execution_count": 38,
   "metadata": {},
   "outputs": [
    {
     "name": "stdout",
     "output_type": "stream",
     "text": [
      "area of the circle is: 36\n"
     ]
    }
   ],
   "source": [
    "area(3,4)"
   ]
  },
  {
   "cell_type": "code",
   "execution_count": null,
   "metadata": {},
   "outputs": [],
   "source": [
    "## FUNCTION: RANDOM QUOTES SHOW \n",
    "## HINT: random library\n",
    "## quote = [xyz, yui, wui]\n",
    "## random quote display"
   ]
  },
  {
   "cell_type": "markdown",
   "metadata": {},
   "source": [
    "7. Loops:"
   ]
  },
  {
   "cell_type": "code",
   "execution_count": 42,
   "metadata": {},
   "outputs": [
    {
     "name": "stdout",
     "output_type": "stream",
     "text": [
      "pizza\n",
      "karahi\n",
      "chaat\n",
      "chaat\n"
     ]
    }
   ],
   "source": [
    "## for loop\n",
    "khanay = ['pizza','karahi','hamburger','chaat'] #khanay ki list\n",
    "for x in khanay:\n",
    " print(x) #local varibale\n",
    "#print(x) #global varibale\n",
    "\n"
   ]
  },
  {
   "cell_type": "code",
   "execution_count": 43,
   "metadata": {},
   "outputs": [
    {
     "name": "stdout",
     "output_type": "stream",
     "text": [
      "b\n",
      "i\n",
      "r\n",
      "y\n",
      "a\n",
      "n\n",
      "i\n"
     ]
    }
   ],
   "source": [
    "khanay = 'biryani' #khanay ki list\n",
    "for x in khanay:\n",
    " print(x)"
   ]
  },
  {
   "cell_type": "code",
   "execution_count": 45,
   "metadata": {},
   "outputs": [
    {
     "name": "stdout",
     "output_type": "stream",
     "text": [
      "1\n",
      "2\n",
      "3\n"
     ]
    }
   ],
   "source": [
    "## while loop\n",
    "\n",
    "i = 1\n",
    "while i < 5:\n",
    "    print(i)\n",
    "    if i == 3:\n",
    "        break\n",
    "    i +=1"
   ]
  },
  {
   "cell_type": "code",
   "execution_count": 46,
   "metadata": {},
   "outputs": [
    {
     "name": "stdout",
     "output_type": "stream",
     "text": [
      "pizza\n",
      "karahi\n",
      "hamburger\n"
     ]
    }
   ],
   "source": [
    "khanay = ['pizza','karahi','hamburger','chaat'] #khanay ki list\n",
    "for i in khanay:\n",
    "    print(i)\n",
    "    if i == 'hamburger':\n",
    "        break"
   ]
  },
  {
   "cell_type": "code",
   "execution_count": null,
   "metadata": {},
   "outputs": [],
   "source": [
    "khanay = ['pizza','karahi','hamburger','chaat'] #khanay ki list\n",
    "while "
   ]
  },
  {
   "cell_type": "markdown",
   "metadata": {},
   "source": [
    "IMPORTANT LIBRARIES:\n",
    "1. pandas\n",
    "2. numpy\n",
    "3. seaborn\n",
    "4. matplotlib\n",
    "5. scikit learn"
   ]
  },
  {
   "cell_type": "markdown",
   "metadata": {},
   "source": []
  }
 ],
 "metadata": {
  "kernelspec": {
   "display_name": "Python 3",
   "language": "python",
   "name": "python3"
  },
  "language_info": {
   "codemirror_mode": {
    "name": "ipython",
    "version": 3
   },
   "file_extension": ".py",
   "mimetype": "text/x-python",
   "name": "python",
   "nbconvert_exporter": "python",
   "pygments_lexer": "ipython3",
   "version": "3.10.2"
  },
  "orig_nbformat": 4
 },
 "nbformat": 4,
 "nbformat_minor": 2
}
