{
 "cells": [
  {
   "cell_type": "markdown",
   "metadata": {},
   "source": [
    "    Statistical Tests: Part#2"
   ]
  },
  {
   "cell_type": "markdown",
   "metadata": {},
   "source": [
    "# Homogennity Test:"
   ]
  },
  {
   "cell_type": "markdown",
   "metadata": {},
   "source": [
    "- H0 = variances are equal\n",
    "- H1 = variances are not equal"
   ]
  },
  {
   "cell_type": "code",
   "execution_count": 20,
   "metadata": {},
   "outputs": [
    {
     "name": "stdout",
     "output_type": "stream",
     "text": [
      "Statistics=4.193, p=0.059\n",
      "FAIL TO REJECT H0; variances are equal \n"
     ]
    }
   ],
   "source": [
    "f_p = [100, 220, 240, 120, 80, 450, 100, 231, 330] # fruit price\n",
    "m_p = [35000, 200000, 80000, 45000, 400000, 4000, 5500,15000] # mobile price\n",
    "\n",
    "from scipy.stats import levene\n",
    "s, p = levene(f_p, m_p)\n",
    "print('Statistics=%.3f, p=%.3f' % (s, p))\n",
    "\n",
    "sl = 0.01 #alpha\n",
    "if p < sl:\n",
    "    print(\"REJECT H0; variances are not equal \")\n",
    "else:\n",
    "    print(\"FAIL TO REJECT H0; variances are equal \")"
   ]
  },
  {
   "cell_type": "markdown",
   "metadata": {},
   "source": [
    "# Chi Square test:\n",
    "Comparison/Relation b/w Categorical variables (both independent and dependent)\n",
    "\n",
    "- H0 = Null hypothesis = The two categorical variables have no relationship (independent)\n",
    "- H1 = Alternative hypothesis = There is a relationship (dependent) between two categorical variables"
   ]
  },
  {
   "cell_type": "code",
   "execution_count": 21,
   "metadata": {},
   "outputs": [
    {
     "data": {
      "text/html": [
       "<div>\n",
       "<style scoped>\n",
       "    .dataframe tbody tr th:only-of-type {\n",
       "        vertical-align: middle;\n",
       "    }\n",
       "\n",
       "    .dataframe tbody tr th {\n",
       "        vertical-align: top;\n",
       "    }\n",
       "\n",
       "    .dataframe thead th {\n",
       "        text-align: right;\n",
       "    }\n",
       "</style>\n",
       "<table border=\"1\" class=\"dataframe\">\n",
       "  <thead>\n",
       "    <tr style=\"text-align: right;\">\n",
       "      <th></th>\n",
       "      <th>Team</th>\n",
       "      <th>Opponent</th>\n",
       "      <th>Format</th>\n",
       "      <th>Ground</th>\n",
       "      <th>Year</th>\n",
       "      <th>Toss</th>\n",
       "      <th>Selection</th>\n",
       "      <th>Run Scored</th>\n",
       "      <th>Wicket Lost</th>\n",
       "      <th>Fours</th>\n",
       "      <th>Sixes</th>\n",
       "      <th>Extras</th>\n",
       "      <th>Run Rate</th>\n",
       "      <th>Avg Bat Strike Rate</th>\n",
       "      <th>Highest Score</th>\n",
       "      <th>Wicket Taken</th>\n",
       "      <th>Given Extras</th>\n",
       "      <th>Highest Individual wicket</th>\n",
       "      <th>Player Of The Match</th>\n",
       "      <th>Result</th>\n",
       "    </tr>\n",
       "  </thead>\n",
       "  <tbody>\n",
       "    <tr>\n",
       "      <th>0</th>\n",
       "      <td>Pakistan</td>\n",
       "      <td>Sri Lanka</td>\n",
       "      <td>ODI</td>\n",
       "      <td>Sharjah</td>\n",
       "      <td>1984</td>\n",
       "      <td>Lose</td>\n",
       "      <td>Batting</td>\n",
       "      <td>187.0</td>\n",
       "      <td>9.0</td>\n",
       "      <td>9.0</td>\n",
       "      <td>3.0</td>\n",
       "      <td>21.0</td>\n",
       "      <td>4.06</td>\n",
       "      <td>52.04</td>\n",
       "      <td>47.0</td>\n",
       "      <td>5.0</td>\n",
       "      <td>26.0</td>\n",
       "      <td>2.0</td>\n",
       "      <td>Roy Dias</td>\n",
       "      <td>Lose</td>\n",
       "    </tr>\n",
       "    <tr>\n",
       "      <th>1</th>\n",
       "      <td>Sri Lanka</td>\n",
       "      <td>Pakistan</td>\n",
       "      <td>ODI</td>\n",
       "      <td>Sharjah</td>\n",
       "      <td>1984</td>\n",
       "      <td>Win</td>\n",
       "      <td>Bowling</td>\n",
       "      <td>190.0</td>\n",
       "      <td>5.0</td>\n",
       "      <td>11.0</td>\n",
       "      <td>1.0</td>\n",
       "      <td>26.0</td>\n",
       "      <td>4.36</td>\n",
       "      <td>68.51</td>\n",
       "      <td>57.0</td>\n",
       "      <td>9.0</td>\n",
       "      <td>21.0</td>\n",
       "      <td>3.0</td>\n",
       "      <td>Roy Dias</td>\n",
       "      <td>Win</td>\n",
       "    </tr>\n",
       "    <tr>\n",
       "      <th>2</th>\n",
       "      <td>India</td>\n",
       "      <td>Sri Lanka</td>\n",
       "      <td>ODI</td>\n",
       "      <td>Sharjah</td>\n",
       "      <td>1984</td>\n",
       "      <td>Win</td>\n",
       "      <td>Bowling</td>\n",
       "      <td>97.0</td>\n",
       "      <td>0.0</td>\n",
       "      <td>9.0</td>\n",
       "      <td>0.0</td>\n",
       "      <td>14.0</td>\n",
       "      <td>4.47</td>\n",
       "      <td>60.48</td>\n",
       "      <td>51.0</td>\n",
       "      <td>10.0</td>\n",
       "      <td>8.0</td>\n",
       "      <td>3.0</td>\n",
       "      <td>Surinder Khanna</td>\n",
       "      <td>Win</td>\n",
       "    </tr>\n",
       "    <tr>\n",
       "      <th>3</th>\n",
       "      <td>Sri Lanka</td>\n",
       "      <td>India</td>\n",
       "      <td>ODI</td>\n",
       "      <td>Sharjah</td>\n",
       "      <td>1984</td>\n",
       "      <td>Lose</td>\n",
       "      <td>Batting</td>\n",
       "      <td>96.0</td>\n",
       "      <td>10.0</td>\n",
       "      <td>7.0</td>\n",
       "      <td>0.0</td>\n",
       "      <td>8.0</td>\n",
       "      <td>2.34</td>\n",
       "      <td>25.74</td>\n",
       "      <td>38.0</td>\n",
       "      <td>0.0</td>\n",
       "      <td>14.0</td>\n",
       "      <td>0.0</td>\n",
       "      <td>Surinder Khanna</td>\n",
       "      <td>Lose</td>\n",
       "    </tr>\n",
       "    <tr>\n",
       "      <th>4</th>\n",
       "      <td>India</td>\n",
       "      <td>Pakistan</td>\n",
       "      <td>ODI</td>\n",
       "      <td>Sharjah</td>\n",
       "      <td>1984</td>\n",
       "      <td>Win</td>\n",
       "      <td>Batting</td>\n",
       "      <td>188.0</td>\n",
       "      <td>4.0</td>\n",
       "      <td>13.0</td>\n",
       "      <td>3.0</td>\n",
       "      <td>17.0</td>\n",
       "      <td>4.08</td>\n",
       "      <td>60.21</td>\n",
       "      <td>56.0</td>\n",
       "      <td>10.0</td>\n",
       "      <td>5.0</td>\n",
       "      <td>3.0</td>\n",
       "      <td>Surinder Khanna</td>\n",
       "      <td>Win</td>\n",
       "    </tr>\n",
       "  </tbody>\n",
       "</table>\n",
       "</div>"
      ],
      "text/plain": [
       "        Team   Opponent Format   Ground  Year  Toss Selection  Run Scored  \\\n",
       "0   Pakistan  Sri Lanka    ODI  Sharjah  1984  Lose   Batting       187.0   \n",
       "1  Sri Lanka   Pakistan    ODI  Sharjah  1984   Win   Bowling       190.0   \n",
       "2      India  Sri Lanka    ODI  Sharjah  1984   Win   Bowling        97.0   \n",
       "3  Sri Lanka      India    ODI  Sharjah  1984  Lose   Batting        96.0   \n",
       "4      India   Pakistan    ODI  Sharjah  1984   Win   Batting       188.0   \n",
       "\n",
       "   Wicket Lost  Fours  Sixes  Extras  Run Rate  Avg Bat Strike Rate  \\\n",
       "0          9.0    9.0    3.0    21.0      4.06                52.04   \n",
       "1          5.0   11.0    1.0    26.0      4.36                68.51   \n",
       "2          0.0    9.0    0.0    14.0      4.47                60.48   \n",
       "3         10.0    7.0    0.0     8.0      2.34                25.74   \n",
       "4          4.0   13.0    3.0    17.0      4.08                60.21   \n",
       "\n",
       "   Highest Score  Wicket Taken  Given Extras  Highest Individual wicket  \\\n",
       "0           47.0           5.0          26.0                        2.0   \n",
       "1           57.0           9.0          21.0                        3.0   \n",
       "2           51.0          10.0           8.0                        3.0   \n",
       "3           38.0           0.0          14.0                        0.0   \n",
       "4           56.0          10.0           5.0                        3.0   \n",
       "\n",
       "  Player Of The Match Result  \n",
       "0            Roy Dias   Lose  \n",
       "1            Roy Dias    Win  \n",
       "2     Surinder Khanna    Win  \n",
       "3     Surinder Khanna   Lose  \n",
       "4     Surinder Khanna    Win  "
      ]
     },
     "execution_count": 21,
     "metadata": {},
     "output_type": "execute_result"
    }
   ],
   "source": [
    "import pandas as pd\n",
    "from scipy import stats\n",
    "df = pd.read_csv(\"asiacup.csv\")\n",
    "df.head()"
   ]
  },
  {
   "cell_type": "code",
   "execution_count": 22,
   "metadata": {},
   "outputs": [
    {
     "data": {
      "text/plain": [
       "Sixes                        2\n",
       "Run Rate                     2\n",
       "Player Of The Match          2\n",
       "Highest Individual wicket    2\n",
       "Given Extras                 2\n",
       "Wicket Taken                 2\n",
       "Highest Score                2\n",
       "Run Scored                   2\n",
       "Wicket Lost                  2\n",
       "Fours                        2\n",
       "Avg Bat Strike Rate          2\n",
       "Extras                       2\n",
       "Team                         0\n",
       "Opponent                     0\n",
       "Selection                    0\n",
       "Toss                         0\n",
       "Year                         0\n",
       "Ground                       0\n",
       "Format                       0\n",
       "Result                       0\n",
       "dtype: int64"
      ]
     },
     "execution_count": 22,
     "metadata": {},
     "output_type": "execute_result"
    }
   ],
   "source": [
    "# checking null and duplicate values\n",
    "df.isnull().sum().sort_values(ascending=False)\n"
   ]
  },
  {
   "cell_type": "code",
   "execution_count": 23,
   "metadata": {},
   "outputs": [
    {
     "data": {
      "text/plain": [
       "0"
      ]
     },
     "execution_count": 23,
     "metadata": {},
     "output_type": "execute_result"
    }
   ],
   "source": [
    "df.duplicated().sum()"
   ]
  },
  {
   "cell_type": "code",
   "execution_count": 24,
   "metadata": {},
   "outputs": [
    {
     "name": "stdout",
     "output_type": "stream",
     "text": [
      "<class 'pandas.core.frame.DataFrame'>\n",
      "RangeIndex: 254 entries, 0 to 253\n",
      "Data columns (total 20 columns):\n",
      " #   Column                     Non-Null Count  Dtype  \n",
      "---  ------                     --------------  -----  \n",
      " 0   Team                       254 non-null    object \n",
      " 1   Opponent                   254 non-null    object \n",
      " 2   Format                     254 non-null    object \n",
      " 3   Ground                     254 non-null    object \n",
      " 4   Year                       254 non-null    int64  \n",
      " 5   Toss                       254 non-null    object \n",
      " 6   Selection                  254 non-null    object \n",
      " 7   Run Scored                 252 non-null    float64\n",
      " 8   Wicket Lost                252 non-null    float64\n",
      " 9   Fours                      252 non-null    float64\n",
      " 10  Sixes                      252 non-null    float64\n",
      " 11  Extras                     252 non-null    float64\n",
      " 12  Run Rate                   252 non-null    float64\n",
      " 13  Avg Bat Strike Rate        252 non-null    float64\n",
      " 14  Highest Score              252 non-null    float64\n",
      " 15  Wicket Taken               252 non-null    float64\n",
      " 16  Given Extras               252 non-null    float64\n",
      " 17  Highest Individual wicket  252 non-null    float64\n",
      " 18  Player Of The Match        252 non-null    object \n",
      " 19  Result                     254 non-null    object \n",
      "dtypes: float64(11), int64(1), object(8)\n",
      "memory usage: 39.8+ KB\n"
     ]
    }
   ],
   "source": [
    "df.info()"
   ]
  },
  {
   "cell_type": "code",
   "execution_count": 26,
   "metadata": {},
   "outputs": [
    {
     "name": "stdout",
     "output_type": "stream",
     "text": [
      "Chi-square statistic =  262.1891815385128\n",
      "P-value =  1.4785034600763978e-50\n",
      "There is a relation between winning the toss and winning the match (reject H0)\n"
     ]
    }
   ],
   "source": [
    "# checking the relationship between winning the toss and winning the match\n",
    "st, p, dof, e = stats.chi2_contingency(pd.crosstab(df['Toss'], df['Result']))\n",
    "print(\"Chi-square statistic = \", st)\n",
    "print(\"P-value = \", p)\n",
    "\n",
    "#interpret the reult\n",
    "alpha = 0.05\n",
    "if p <= alpha:\n",
    "    print('There is a relation between winning the toss and winning the match (reject H0)')\n",
    "else:\n",
    "    print('There is no relation between toss winning and match winning (fail to reject H0)')\n"
   ]
  },
  {
   "cell_type": "markdown",
   "metadata": {},
   "source": [
    "# t-test:\n",
    "- Independent sample t-test / 1 sample t-test\n",
    "- Two sample t-test\n",
    "  - Paired\n",
    "  - Un-paired\n",
    "- ANOVA\n",
    "  - 1 way\n",
    "  - 2 way\n",
    "- MANOVA\n",
    "  - 1 way\n",
    "  - 2 way\n",
    "- ANCOVA\n",
    "- MANCOVA"
   ]
  },
  {
   "cell_type": "code",
   "execution_count": 27,
   "metadata": {},
   "outputs": [
    {
     "name": "stdout",
     "output_type": "stream",
     "text": [
      "Statistics=nan, p=nan\n",
      "Reject H0; average no. of sixes in each match of the asia cup is not equal to 10\n"
     ]
    }
   ],
   "source": [
    "# independent sample t test\n",
    "# checking if the average no. of sixes in each match of the asia cup equal to 10\n",
    "\n",
    "from scipy.stats import ttest_ind, ttest_1samp\n",
    "\n",
    "stat, p = stats.ttest_1samp(df['Sixes'], 10)\n",
    "\n",
    "print('Statistics=%.3f, p=%.3f' % (stat, p))\n",
    "\n",
    "alpha = 0.05\n",
    "if p > alpha:\n",
    "    print('Fail to reject H0; average no. of sixes in each match of the asia cup is equal to 10')\n",
    "else:\n",
    "    print('Reject H0; average no. of sixes in each match of the asia cup is not equal to 10')\n",
    "\n",
    "    \n"
   ]
  },
  {
   "cell_type": "code",
   "execution_count": 28,
   "metadata": {},
   "outputs": [],
   "source": [
    "#delete all null values\n",
    "df.dropna(inplace=True)"
   ]
  },
  {
   "cell_type": "code",
   "execution_count": 29,
   "metadata": {},
   "outputs": [
    {
     "data": {
      "text/plain": [
       "Team                         0\n",
       "Opponent                     0\n",
       "Player Of The Match          0\n",
       "Highest Individual wicket    0\n",
       "Given Extras                 0\n",
       "Wicket Taken                 0\n",
       "Highest Score                0\n",
       "Avg Bat Strike Rate          0\n",
       "Run Rate                     0\n",
       "Extras                       0\n",
       "Sixes                        0\n",
       "Fours                        0\n",
       "Wicket Lost                  0\n",
       "Run Scored                   0\n",
       "Selection                    0\n",
       "Toss                         0\n",
       "Year                         0\n",
       "Ground                       0\n",
       "Format                       0\n",
       "Result                       0\n",
       "dtype: int64"
      ]
     },
     "execution_count": 29,
     "metadata": {},
     "output_type": "execute_result"
    }
   ],
   "source": [
    "# checking null and duplicate values\n",
    "df.isnull().sum().sort_values(ascending=False)\n"
   ]
  },
  {
   "cell_type": "code",
   "execution_count": 30,
   "metadata": {},
   "outputs": [
    {
     "name": "stdout",
     "output_type": "stream",
     "text": [
      "Statistics=-43.332, p=0.000\n",
      "Reject H0; average no. of sixes in each match of the asia cup is not equal to 10\n"
     ]
    }
   ],
   "source": [
    "# independent sample t test\n",
    "# checking if the average no. of sixes in each match of the asia cup equal to 10\n",
    "\n",
    "from scipy.stats import ttest_ind\n",
    "\n",
    "stat, p = stats.ttest_1samp(df['Sixes'], 10)\n",
    "\n",
    "print('Statistics=%.3f, p=%.3f' % (stat, p))\n",
    "\n",
    "alpha = 0.05\n",
    "if p > alpha:\n",
    "    print('Fail to reject H0; average no. of sixes in each match of the asia cup is equal to 10')\n",
    "else:\n",
    "    print('Reject H0; average no. of sixes in each match of the asia cup is not equal to 10')\n",
    "\n",
    "    \n"
   ]
  },
  {
   "cell_type": "code",
   "execution_count": 31,
   "metadata": {},
   "outputs": [
    {
     "name": "stdout",
     "output_type": "stream",
     "text": [
      "Statistics=24.680, p=0.000\n",
      "Reject H0; average no. of fours and sixes in each match of the asia cup are not equal\n"
     ]
    }
   ],
   "source": [
    "# unpaired t test on fours and sixes\n",
    "# checking if the average no. of fours and sixes in each match of the asia cup are equal\n",
    "\n",
    "from scipy.stats import ttest_ind\n",
    "\n",
    "stat, p = stats.ttest_ind(df['Fours'], df['Sixes'])\n",
    "\n",
    "print('Statistics=%.3f, p=%.3f' % (stat, p))\n",
    "\n",
    "alpha = 0.05\n",
    "\n",
    "if p > alpha:\n",
    "    print('Fail to reject H0; average no. of fours and sixes in each match of the asia cup are equal')\n",
    "else:\n",
    "    print('Reject H0; average no. of fours and sixes in each match of the asia cup are not equal')"
   ]
  },
  {
   "cell_type": "code",
   "execution_count": 32,
   "metadata": {},
   "outputs": [
    {
     "name": "stdout",
     "output_type": "stream",
     "text": [
      "p-value:  0.3009601090833767\n",
      "Sample means are equal (fail to reject H0)\n"
     ]
    }
   ],
   "source": [
    "#paired t test on data before and after the medicne blood pressure\n",
    "# checking if the average blood pressure before and after the medicine are equal\n",
    "\n",
    "from scipy.stats import ttest_rel\n",
    "\n",
    "# Sample data\n",
    "before_med = [100, 121, 30, 47, 59, 99, 130]\n",
    "after_med = [90, 110, 40, 57, 50, 90, 120]\n",
    "\n",
    "# Perform the t-test\n",
    "t_stat, p_value = ttest_rel(before_med, after_med)\n",
    "\n",
    "print(\"p-value: \", p_value)\n",
    "\n",
    "#interret results\n",
    "alpha = 0.05\n",
    "if p_value > alpha:\n",
    "    print('Sample means are equal (fail to reject H0)')\n",
    "else:\n",
    "    print('Sample means are not equal (reject H0)')\n"
   ]
  },
  {
   "cell_type": "markdown",
   "metadata": {},
   "source": [
    "## ANOVA:\n",
    "- 1-way: 1 factor and 1 response variable.\n",
    "e.g., We want to kow the **Datathon scores** of **three different education levels** ( Intermediate, Bachelors, Masters). So, here Factor *(Categorical)* = Levels of Education ( Intermediate, Bachelors, Masters ) & Response = Datathon Score *(Continuous)*\n",
    "\n",
    "- 2-way: 2 factors and 1 response variable. e.g., Factors: Level of Education + Age groups ( teen, adult, elder)\n",
    "\n",
    "- ANCOVA: 1 factor + 1 covariate + 1 response variable e.g., Covariate: No. of hours spent working ( CONTINUOUS)\n",
    "\n",
    "- MANOVA: In 1 way we have 1 factor, 2 response variables ( Datathon scores + Salary ) and in 2 way we have 2 factors and 2 response variables.\n",
    "\n",
    "- MANCOVA: Same like MANOVA but addition of COVAIRATE."
   ]
  },
  {
   "cell_type": "code",
   "execution_count": null,
   "metadata": {},
   "outputs": [],
   "source": [
    "import scipy.stats as stats\n",
    "\n",
    "# Sample data for three groups\n",
    "group1 = [1, 2, 3, 4, 5]\n",
    "group2 = [2, 3, 4, 5, 6]\n",
    "group3 = [3, 4, 5, 6, 7]\n",
    "\n",
    "# Perform ANOVA\n",
    "f_val, p_val = stats.f_oneway(group1, group2, group3)\n",
    "\n",
    "# Print the results\n",
    "print(\"F-value:\", f_val)\n",
    "print(\"p-value:\", p_val)\n",
    "\n",
    "#interpret results\n",
    "alpha = 0.05\n",
    "if p_val > alpha:\n",
    "    print('Sample means are equal (fail to reject H0)')\n",
    "else:\n",
    "    print('Sample means are not equal (reject H0)')\n",
    "\n",
    "    \n"
   ]
  },
  {
   "cell_type": "markdown",
   "metadata": {},
   "source": [
    "# Correlation: -1 to 1 (0% and 100%)\n",
    "1. Correlation ( pearson, etc)\n",
    "2. Regression \n",
    "\n",
    "\n",
    "- -ve = -1 to 0 : INVERSE\n",
    "- +ve = 0 to 1 : DIRECT\n",
    "- ABSOLUTE: corr = 0.5 < WEAK RELATION \n",
    "\n"
   ]
  },
  {
   "cell_type": "code",
   "execution_count": 35,
   "metadata": {},
   "outputs": [],
   "source": [
    "# #coorealation of tips data from seaborn\n",
    "import seaborn as sns\n",
    "tips = sns.load_dataset('tips')\n",
    "\n",
    "# tips.corr()"
   ]
  },
  {
   "cell_type": "code",
   "execution_count": 38,
   "metadata": {},
   "outputs": [
    {
     "name": "stdout",
     "output_type": "stream",
     "text": [
      "            total_bill       tip      size\n",
      "total_bill    1.000000  0.675734  0.598315\n",
      "tip           0.675734  1.000000  0.489299\n",
      "size          0.598315  0.489299  1.000000\n"
     ]
    }
   ],
   "source": [
    "\n",
    "# Select only the numerical columns for correlation analysis\n",
    "numerical_columns = tips.select_dtypes(include=['number'])\n",
    "\n",
    "# Calculate correlations for the numerical columns\n",
    "correlation_matrix = numerical_columns.corr()\n",
    "\n",
    "# Print the correlation matrix\n",
    "print(correlation_matrix)\n"
   ]
  },
  {
   "cell_type": "code",
   "execution_count": 40,
   "metadata": {},
   "outputs": [
    {
     "data": {
      "text/plain": [
       "<Axes: >"
      ]
     },
     "execution_count": 40,
     "metadata": {},
     "output_type": "execute_result"
    },
    {
     "data": {
      "image/png": "[encoded data removed]",
      "text/plain": [
       "<Figure size 640x480 with 2 Axes>"
      ]
     },
     "metadata": {},
     "output_type": "display_data"
    }
   ],
   "source": [
    "sns.heatmap(correlation_matrix, annot=True)"
   ]
  },
  {
   "cell_type": "code",
   "execution_count": null,
   "metadata": {},
   "outputs": [],
   "source": []
  }
 ],
 "metadata": {
  "kernelspec": {
   "display_name": "Python 3",
   "language": "python",
   "name": "python3"
  },
  "language_info": {
   "codemirror_mode": {
    "name": "ipython",
    "version": 3
   },
   "file_extension": ".py",
   "mimetype": "text/x-python",
   "name": "python",
   "nbconvert_exporter": "python",
   "pygments_lexer": "ipython3",
   "version": "3.11.5"
  },
  "orig_nbformat": 4
 },
 "nbformat": 4,
 "nbformat_minor": 2
}
